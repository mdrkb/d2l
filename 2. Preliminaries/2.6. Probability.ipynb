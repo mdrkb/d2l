{
 "cells": [
  {
   "cell_type": "markdown",
   "id": "equivalent-topic",
   "metadata": {},
   "source": [
    "# 2.6 Probability\n",
    "## 2.6.1 Basic Probability Theory"
   ]
  },
  {
   "cell_type": "code",
   "execution_count": 14,
   "id": "precise-charge",
   "metadata": {},
   "outputs": [
    {
     "data": {
      "text/plain": [
       "tensor([0., 0., 1., 0., 0., 0.])"
      ]
     },
     "execution_count": 14,
     "metadata": {},
     "output_type": "execute_result"
    }
   ],
   "source": [
    "%matplotlib inline\n",
    "import torch\n",
    "from torch.distributions import multinomial\n",
    "\n",
    "fair_probs = torch.ones([6]) / 6\n",
    "multinomial.Multinomial(1, fair_probs).sample()"
   ]
  },
  {
   "cell_type": "code",
   "execution_count": 18,
   "id": "searching-inspector",
   "metadata": {},
   "outputs": [
    {
     "data": {
      "text/plain": [
       "tensor([0.1630, 0.1681, 0.1636, 0.1638, 0.1716, 0.1699])"
      ]
     },
     "execution_count": 18,
     "metadata": {},
     "output_type": "execute_result"
    }
   ],
   "source": [
    "counts = multinomial.Multinomial(10000, fair_probs).sample()\n",
    "counts / 10000"
   ]
  },
  {
   "cell_type": "code",
   "execution_count": 24,
   "id": "polyphonic-retreat",
   "metadata": {},
   "outputs": [
    {
     "name": "stdout",
     "output_type": "stream",
     "text": [
      "tensor([[3., 3., 1., 3., 0., 0.],\n",
      "        [0., 3., 2., 3., 1., 1.],\n",
      "        [2., 1., 3., 1., 0., 3.],\n",
      "        ...,\n",
      "        [0., 0., 1., 1., 2., 6.],\n",
      "        [2., 1., 4., 1., 1., 1.],\n",
      "        [0., 0., 3., 2., 3., 2.]])\n",
      "tensor([[  3.,   3.,   1.,   3.,   0.,   0.],\n",
      "        [  3.,   6.,   3.,   6.,   1.,   1.],\n",
      "        [  5.,   7.,   6.,   7.,   1.,   4.],\n",
      "        ...,\n",
      "        [837., 858., 809., 869., 761., 846.],\n",
      "        [839., 859., 813., 870., 762., 847.],\n",
      "        [839., 859., 816., 872., 765., 849.]])\n",
      "tensor([[0.3000, 0.3000, 0.1000, 0.3000, 0.0000, 0.0000],\n",
      "        [0.1500, 0.3000, 0.1500, 0.3000, 0.0500, 0.0500],\n",
      "        [0.1667, 0.2333, 0.2000, 0.2333, 0.0333, 0.1333],\n",
      "        ...,\n",
      "        [0.1681, 0.1723, 0.1624, 0.1745, 0.1528, 0.1699],\n",
      "        [0.1681, 0.1721, 0.1629, 0.1743, 0.1527, 0.1697],\n",
      "        [0.1678, 0.1718, 0.1632, 0.1744, 0.1530, 0.1698]])\n"
     ]
    }
   ],
   "source": [
    "counts = multinomial.Multinomial(10, fair_probs).sample((500,))\n",
    "print(counts)\n",
    "cum_counts = counts.cumsum(dim=0)\n",
    "print(cum_counts)\n",
    "estimates = cum_counts / cum_counts.sum(dim=1, keepdims=True)\n",
    "print(estimates)"
   ]
  }
 ],
 "metadata": {
  "kernelspec": {
   "display_name": "Python 3",
   "language": "python",
   "name": "python3"
  },
  "language_info": {
   "codemirror_mode": {
    "name": "ipython",
    "version": 3
   },
   "file_extension": ".py",
   "mimetype": "text/x-python",
   "name": "python",
   "nbconvert_exporter": "python",
   "pygments_lexer": "ipython3",
   "version": "3.9.2"
  }
 },
 "nbformat": 4,
 "nbformat_minor": 5
}
