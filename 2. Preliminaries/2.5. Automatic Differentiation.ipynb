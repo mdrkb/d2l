{
 "cells": [
  {
   "cell_type": "markdown",
   "id": "terminal-superintendent",
   "metadata": {},
   "source": [
    "# 2.5 Automatic Differentiation\n",
    "Differentiation is a crucial step in nearly all deep learning optimization algorithms. Automatic differentiation enables the system to subsequently backpropagate gradients.\n",
    "\n",
    "## 2.5.1 A Simple Example"
   ]
  },
  {
   "cell_type": "code",
   "execution_count": 6,
   "id": "studied-consistency",
   "metadata": {},
   "outputs": [
    {
     "name": "stdout",
     "output_type": "stream",
     "text": [
      "tensor([0., 1., 2., 3.])\n",
      "None\n",
      "tensor(28., grad_fn=<MulBackward0>)\n",
      "tensor([ 0.,  4.,  8., 12.])\n",
      "tensor([True, True, True, True])\n",
      "tensor(6., grad_fn=<SumBackward0>)\n",
      "tensor([1., 1., 1., 1.])\n"
     ]
    }
   ],
   "source": [
    "import torch\n",
    "\n",
    "x = torch.arange(4.0)\n",
    "print(x)\n",
    "x.requires_grad_(True)  # Same as `x = torch.arange(4.0, requires_grad=True)`\n",
    "print(x.grad)  # The default value is None\n",
    "\n",
    "y = 2 * torch.dot(x, x)\n",
    "print(y)\n",
    "y.backward()\n",
    "print(x.grad)\n",
    "print(x.grad == 4 * x)\n",
    "\n",
    "# PyTorch accumulates the gradient in default, we need to clear the previous values\n",
    "x.grad.zero_()\n",
    "y = x.sum()\n",
    "print(y)\n",
    "y.backward()\n",
    "print(x.grad)"
   ]
  },
  {
   "cell_type": "markdown",
   "id": "tired-pierre",
   "metadata": {},
   "source": [
    "## 2.5.2 Backward for Non-Scalar Variables\n",
    "Technically, when y is not a scalar, the most natural interpretation of the differentiation of a vector y with respect to a vector x is a matrix. For higher-order and higher-dimensional y and x, the differentiation result could be a high-order tensor."
   ]
  },
  {
   "cell_type": "code",
   "execution_count": 8,
   "id": "pending-durham",
   "metadata": {},
   "outputs": [
    {
     "name": "stdout",
     "output_type": "stream",
     "text": [
      "tensor([0., 1., 4., 9.], grad_fn=<MulBackward0>)\n",
      "tensor([0., 2., 4., 6.])\n"
     ]
    }
   ],
   "source": [
    "# Invoking `backward` on a non-scalar requires passing in a `gradient` argument\n",
    "# which specifies the gradient of the differentiated function w.r.t `self`.\n",
    "# In our case, we simply want to sum the partial derivatives, so passing\n",
    "# in a gradient of ones is appropriate\n",
    "x.grad.zero_()\n",
    "y = x * x\n",
    "print(y)\n",
    "# y.backward(torch.ones(len(x))) equivalent to the below\n",
    "y.sum().backward()\n",
    "print(x.grad)"
   ]
  },
  {
   "cell_type": "markdown",
   "id": "durable-shopper",
   "metadata": {},
   "source": [
    "## 2.5.3 Detaching Computation"
   ]
  },
  {
   "cell_type": "code",
   "execution_count": 14,
   "id": "provincial-surge",
   "metadata": {},
   "outputs": [
    {
     "name": "stdout",
     "output_type": "stream",
     "text": [
      "tensor([0., 1., 4., 9.], grad_fn=<MulBackward0>)\n",
      "tensor([0., 1., 4., 9.])\n",
      "tensor([ 0.,  1.,  8., 27.], grad_fn=<MulBackward0>)\n"
     ]
    },
    {
     "data": {
      "text/plain": [
       "tensor([True, True, True, True])"
      ]
     },
     "execution_count": 14,
     "metadata": {},
     "output_type": "execute_result"
    }
   ],
   "source": [
    "x.grad.zero_()\n",
    "y = x * x\n",
    "print(y)\n",
    "u = y.detach()\n",
    "print(u)\n",
    "z = u * x\n",
    "print(z)\n",
    "z.sum().backward()\n",
    "x.grad == u"
   ]
  },
  {
   "cell_type": "code",
   "execution_count": 15,
   "id": "desirable-heater",
   "metadata": {},
   "outputs": [
    {
     "data": {
      "text/plain": [
       "tensor([True, True, True, True])"
      ]
     },
     "execution_count": 15,
     "metadata": {},
     "output_type": "execute_result"
    }
   ],
   "source": [
    "x.grad.zero_()\n",
    "y.sum().backward()\n",
    "x.grad == 2 * x"
   ]
  },
  {
   "cell_type": "markdown",
   "id": "dental-anderson",
   "metadata": {},
   "source": [
    "## 2.5.4 Computing the Gradient of Python Control Flow"
   ]
  },
  {
   "cell_type": "code",
   "execution_count": 22,
   "id": "olympic-murray",
   "metadata": {},
   "outputs": [
    {
     "name": "stdout",
     "output_type": "stream",
     "text": [
      "tensor(1.2038, requires_grad=True)\n",
      "tensor(1232.6451, grad_fn=<MulBackward0>)\n",
      "tensor(True)\n"
     ]
    }
   ],
   "source": [
    "def f(a):\n",
    "    b = a * 2\n",
    "    while b.norm() < 1000:\n",
    "        b = b * 2\n",
    "    if b.sum() > 0:\n",
    "        c = b\n",
    "    else:\n",
    "        c = 100 * b\n",
    "    return c\n",
    "\n",
    "a = torch.randn(size=(), requires_grad=True)\n",
    "print(a)\n",
    "\n",
    "d = f(a)\n",
    "print(d)\n",
    "\n",
    "d.backward()\n",
    "print(a.grad == d / a)"
   ]
  }
 ],
 "metadata": {
  "kernelspec": {
   "display_name": "Python 3",
   "language": "python",
   "name": "python3"
  },
  "language_info": {
   "codemirror_mode": {
    "name": "ipython",
    "version": 3
   },
   "file_extension": ".py",
   "mimetype": "text/x-python",
   "name": "python",
   "nbconvert_exporter": "python",
   "pygments_lexer": "ipython3",
   "version": "3.9.2"
  }
 },
 "nbformat": 4,
 "nbformat_minor": 5
}
