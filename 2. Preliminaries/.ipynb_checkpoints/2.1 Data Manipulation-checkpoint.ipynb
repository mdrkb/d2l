{
 "cells": [
  {
   "cell_type": "markdown",
   "id": "offshore-colony",
   "metadata": {},
   "source": [
    "# 2.1 Data Manipulation\n",
    "Tensor is an n-dimentional array similar to NumPy's `ndarray` with a few killer features:\n",
    "- NumPy only supports CPU computation where as PyTorch, TensorFlow support GPU computation also.\n",
    "- Tensor class supports automatic differentiation.\n",
    "\n",
    "## 2.1.1 Getting Started\n",
    "A tensor represents a (possibly multi-dimensional) array of numerical values. With one axis, a tensor corresponds (in math) to a vector. With two axes, a tensor corresponds to a matrix. Tensors with more than two axes do not have special mathematical names."
   ]
  },
  {
   "cell_type": "code",
   "execution_count": 13,
   "id": "further-youth",
   "metadata": {},
   "outputs": [
    {
     "name": "stdout",
     "output_type": "stream",
     "text": [
      "tensor([ 0,  1,  2,  3,  4,  5,  6,  7,  8,  9, 10, 11])\n",
      "torch.Size([12])\n",
      "12\n",
      "tensor([[ 0,  1,  2,  3],\n",
      "        [ 4,  5,  6,  7],\n",
      "        [ 8,  9, 10, 11]])\n"
     ]
    }
   ],
   "source": [
    "import torch\n",
    "\n",
    "x = torch.arange(12)\n",
    "print(x)\n",
    "print(x.shape)\n",
    "print(x.numel())\n",
    "\n",
    "X = x.reshape(3, 4) # x.reshape(3, -1)\n",
    "print(X)"
   ]
  }
 ],
 "metadata": {
  "kernelspec": {
   "display_name": "Python 3",
   "language": "python",
   "name": "python3"
  },
  "language_info": {
   "codemirror_mode": {
    "name": "ipython",
    "version": 3
   },
   "file_extension": ".py",
   "mimetype": "text/x-python",
   "name": "python",
   "nbconvert_exporter": "python",
   "pygments_lexer": "ipython3",
   "version": "3.9.2"
  }
 },
 "nbformat": 4,
 "nbformat_minor": 5
}
